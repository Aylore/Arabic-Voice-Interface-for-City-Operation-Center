{
 "cells": [
  {
   "cell_type": "code",
   "execution_count": 54,
   "metadata": {},
   "outputs": [],
   "source": [
    "import pandas as pd\n",
    "df= pd.read_csv(\"google_bench.csv\",index_col=0 )"
   ]
  },
  {
   "cell_type": "code",
   "execution_count": 55,
   "metadata": {},
   "outputs": [
    {
     "data": {
      "text/html": [
       "<div>\n",
       "<style scoped>\n",
       "    .dataframe tbody tr th:only-of-type {\n",
       "        vertical-align: middle;\n",
       "    }\n",
       "\n",
       "    .dataframe tbody tr th {\n",
       "        vertical-align: top;\n",
       "    }\n",
       "\n",
       "    .dataframe thead th {\n",
       "        text-align: right;\n",
       "    }\n",
       "</style>\n",
       "<table border=\"1\" class=\"dataframe\">\n",
       "  <thead>\n",
       "    <tr style=\"text-align: right;\">\n",
       "      <th></th>\n",
       "      <th>rec_name</th>\n",
       "      <th>pred</th>\n",
       "      <th>sentence</th>\n",
       "    </tr>\n",
       "  </thead>\n",
       "  <tbody>\n",
       "    <tr>\n",
       "      <th>0</th>\n",
       "      <td>0.wav</td>\n",
       "      <td>ما اطول عودك</td>\n",
       "      <td>ما أطول عودك!</td>\n",
       "    </tr>\n",
       "    <tr>\n",
       "      <th>1</th>\n",
       "      <td>1.wav</td>\n",
       "      <td>ماتت عمتي منذ سنتين</td>\n",
       "      <td>ماتت عمتي منذ سنتين.</td>\n",
       "    </tr>\n",
       "    <tr>\n",
       "      <th>2</th>\n",
       "      <td>10.wav</td>\n",
       "      <td>انان وشجعوا مساهمتكم</td>\n",
       "      <td>إننا نشجع مساهمتكم.</td>\n",
       "    </tr>\n",
       "    <tr>\n",
       "      <th>3</th>\n",
       "      <td>100.wav</td>\n",
       "      <td>لمن هذه الكتب</td>\n",
       "      <td>لمن هذه الكتب ؟</td>\n",
       "    </tr>\n",
       "    <tr>\n",
       "      <th>4</th>\n",
       "      <td>101.wav</td>\n",
       "      <td>اندلع حريق وربانزل</td>\n",
       "      <td>.اندلع حريق قرب منزلي</td>\n",
       "    </tr>\n",
       "    <tr>\n",
       "      <th>...</th>\n",
       "      <td>...</td>\n",
       "      <td>...</td>\n",
       "      <td>...</td>\n",
       "    </tr>\n",
       "    <tr>\n",
       "      <th>147</th>\n",
       "      <td>74.wav</td>\n",
       "      <td>ايه اللي هو يعزف هو على البيانو افضل مني</td>\n",
       "      <td>إنه يعزف على البيانو أفضل مني.</td>\n",
       "    </tr>\n",
       "    <tr>\n",
       "      <th>148</th>\n",
       "      <td>75.wav</td>\n",
       "      <td>انتقم على موتى ابيه</td>\n",
       "      <td>انتقم لموت أبيه.</td>\n",
       "    </tr>\n",
       "    <tr>\n",
       "      <th>149</th>\n",
       "      <td>76.wav</td>\n",
       "      <td>هل اغلقت النافذه من فضلك</td>\n",
       "      <td>هلّا أغلقت النافذة من فضلك ؟</td>\n",
       "    </tr>\n",
       "    <tr>\n",
       "      <th>150</th>\n",
       "      <td>77.wav</td>\n",
       "      <td>طالعها في قاموسك</td>\n",
       "      <td>طالعها في قاموسك.</td>\n",
       "    </tr>\n",
       "    <tr>\n",
       "      <th>151</th>\n",
       "      <td>78.wav</td>\n",
       "      <td>انا في المطار الان</td>\n",
       "      <td>أنا في المطار الآن.</td>\n",
       "    </tr>\n",
       "  </tbody>\n",
       "</table>\n",
       "<p>152 rows × 3 columns</p>\n",
       "</div>"
      ],
      "text/plain": [
       "    rec_name                                      pred  \\\n",
       "0      0.wav                              ما اطول عودك   \n",
       "1      1.wav                       ماتت عمتي منذ سنتين   \n",
       "2     10.wav                      انان وشجعوا مساهمتكم   \n",
       "3    100.wav                             لمن هذه الكتب   \n",
       "4    101.wav                        اندلع حريق وربانزل   \n",
       "..       ...                                       ...   \n",
       "147   74.wav  ايه اللي هو يعزف هو على البيانو افضل مني   \n",
       "148   75.wav                       انتقم على موتى ابيه   \n",
       "149   76.wav                  هل اغلقت النافذه من فضلك   \n",
       "150   77.wav                          طالعها في قاموسك   \n",
       "151   78.wav                        انا في المطار الان   \n",
       "\n",
       "                           sentence  \n",
       "0                     ما أطول عودك!  \n",
       "1              ماتت عمتي منذ سنتين.  \n",
       "2               إننا نشجع مساهمتكم.  \n",
       "3                   لمن هذه الكتب ؟  \n",
       "4             .اندلع حريق قرب منزلي  \n",
       "..                              ...  \n",
       "147  إنه يعزف على البيانو أفضل مني.  \n",
       "148                انتقم لموت أبيه.  \n",
       "149    هلّا أغلقت النافذة من فضلك ؟  \n",
       "150               طالعها في قاموسك.  \n",
       "151             أنا في المطار الآن.  \n",
       "\n",
       "[152 rows x 3 columns]"
      ]
     },
     "execution_count": 55,
     "metadata": {},
     "output_type": "execute_result"
    }
   ],
   "source": [
    "df"
   ]
  },
  {
   "cell_type": "code",
   "execution_count": 56,
   "metadata": {},
   "outputs": [],
   "source": [
    "from metrics import STTEvaluationMetrics"
   ]
  },
  {
   "cell_type": "code",
   "execution_count": 28,
   "metadata": {},
   "outputs": [
    {
     "ename": "NameError",
     "evalue": "name 'STTEvaluationMetrics' is not defined",
     "output_type": "error",
     "traceback": [
      "\u001b[0;31m---------------------------------------------------------------------------\u001b[0m",
      "\u001b[0;31mNameError\u001b[0m                                 Traceback (most recent call last)",
      "Cell \u001b[0;32mIn[28], line 3\u001b[0m\n\u001b[1;32m      1\u001b[0m k\u001b[39m=\u001b[39m\u001b[39m1\u001b[39m\n\u001b[1;32m      2\u001b[0m \u001b[39m# Instantiate the STTEvaluationMetrics object\u001b[39;00m\n\u001b[0;32m----> 3\u001b[0m eval_metrics \u001b[39m=\u001b[39m STTEvaluationMetrics()\n\u001b[1;32m      5\u001b[0m \u001b[39m# Set the reference and hypothesis columns\u001b[39;00m\n\u001b[1;32m      6\u001b[0m eval_metrics\u001b[39m.\u001b[39mset_reference_column(\u001b[39m'\u001b[39m\u001b[39msentence\u001b[39m\u001b[39m'\u001b[39m)\n",
      "\u001b[0;31mNameError\u001b[0m: name 'STTEvaluationMetrics' is not defined"
     ]
    }
   ],
   "source": [
    "k=1\n",
    "# Instantiate the STTEvaluationMetrics object\n",
    "eval_metrics = STTEvaluationMetrics()\n",
    "\n",
    "# Set the reference and hypothesis columns\n",
    "eval_metrics.set_reference_column('sentence')\n",
    "eval_metrics.set_hypothesis_column('pred')\n",
    "\n",
    "# Calculate the evaluation metrics\n",
    "wer = eval_metrics.calculate_wer(df_clean)\n",
    "cer = eval_metrics.calculate_cer(df_clean)\n",
    "accuracy = eval_metrics.calculate_accuracy(df_clean)\n",
    "\n",
    "print(f\"Word Error Rate (WER): {wer}\")\n",
    "print(f\"Character Error Rate (CER): {cer}\")\n",
    "print(f\"Accuracy: {accuracy}\")"
   ]
  },
  {
   "cell_type": "code",
   "execution_count": 22,
   "metadata": {},
   "outputs": [
    {
     "data": {
      "text/html": [
       "<div>\n",
       "<style scoped>\n",
       "    .dataframe tbody tr th:only-of-type {\n",
       "        vertical-align: middle;\n",
       "    }\n",
       "\n",
       "    .dataframe tbody tr th {\n",
       "        vertical-align: top;\n",
       "    }\n",
       "\n",
       "    .dataframe thead th {\n",
       "        text-align: right;\n",
       "    }\n",
       "</style>\n",
       "<table border=\"1\" class=\"dataframe\">\n",
       "  <thead>\n",
       "    <tr style=\"text-align: right;\">\n",
       "      <th></th>\n",
       "      <th>rec_name</th>\n",
       "      <th>pred</th>\n",
       "      <th>sentence</th>\n",
       "    </tr>\n",
       "  </thead>\n",
       "  <tbody>\n",
       "    <tr>\n",
       "      <th>0</th>\n",
       "      <td>0.wav</td>\n",
       "      <td>ما اطول عودك</td>\n",
       "      <td>ما أطول عودك!</td>\n",
       "    </tr>\n",
       "  </tbody>\n",
       "</table>\n",
       "</div>"
      ],
      "text/plain": [
       "  rec_name          pred       sentence\n",
       "0    0.wav  ما اطول عودك  ما أطول عودك!"
      ]
     },
     "execution_count": 22,
     "metadata": {},
     "output_type": "execute_result"
    }
   ],
   "source": [
    "df[:k]"
   ]
  },
  {
   "cell_type": "code",
   "execution_count": 57,
   "metadata": {},
   "outputs": [],
   "source": [
    "import re\n",
    "\n",
    "def remove_punctuation(text):\n",
    "    return re.sub(r'[^\\w\\s]', '', text)"
   ]
  },
  {
   "cell_type": "code",
   "execution_count": 58,
   "metadata": {},
   "outputs": [
    {
     "data": {
      "text/plain": [
       "0    ما أطول عودك\n",
       "Name: sentence, dtype: object"
      ]
     },
     "execution_count": 58,
     "metadata": {},
     "output_type": "execute_result"
    }
   ],
   "source": [
    "df[:k][\"sentence\"].apply(remove_punctuation)"
   ]
  },
  {
   "cell_type": "code",
   "execution_count": 59,
   "metadata": {},
   "outputs": [],
   "source": [
    "df_clean = df.copy()"
   ]
  },
  {
   "cell_type": "code",
   "execution_count": 53,
   "metadata": {},
   "outputs": [
    {
     "data": {
      "text/plain": [
       "60"
      ]
     },
     "execution_count": 53,
     "metadata": {},
     "output_type": "execute_result"
    }
   ],
   "source": [
    "df_clean[\"pred\"].apply(len).argmin()"
   ]
  },
  {
   "cell_type": "code",
   "execution_count": 54,
   "metadata": {},
   "outputs": [
    {
     "data": {
      "text/plain": [
       "'عفوا'"
      ]
     },
     "execution_count": 54,
     "metadata": {},
     "output_type": "execute_result"
    }
   ],
   "source": [
    "df_clean[\"pred\"][60]"
   ]
  },
  {
   "cell_type": "code",
   "execution_count": 50,
   "metadata": {},
   "outputs": [
    {
     "data": {
      "text/plain": [
       "<Axes: >"
      ]
     },
     "execution_count": 50,
     "metadata": {},
     "output_type": "execute_result"
    },
    {
     "data": {
      "image/png": "[encoded data removed]",
      "text/plain": [
       "<Figure size 640x480 with 1 Axes>"
      ]
     },
     "metadata": {},
     "output_type": "display_data"
    }
   ],
   "source": [
    "df_clean[\"pred\"].apply(len).hist()"
   ]
  },
  {
   "cell_type": "code",
   "execution_count": 46,
   "metadata": {},
   "outputs": [
    {
     "data": {
      "text/plain": [
       "False"
      ]
     },
     "execution_count": 46,
     "metadata": {},
     "output_type": "execute_result"
    }
   ],
   "source": [
    "[len(x)  for x in df_clean[\"pred\"].values ]"
   ]
  },
  {
   "cell_type": "code",
   "execution_count": 60,
   "metadata": {},
   "outputs": [],
   "source": [
    "df_clean[\"sentence\"] = df_clean[\"sentence\"].apply(remove_punctuation)"
   ]
  },
  {
   "cell_type": "code",
   "execution_count": 37,
   "metadata": {},
   "outputs": [
    {
     "data": {
      "text/html": [
       "<div>\n",
       "<style scoped>\n",
       "    .dataframe tbody tr th:only-of-type {\n",
       "        vertical-align: middle;\n",
       "    }\n",
       "\n",
       "    .dataframe tbody tr th {\n",
       "        vertical-align: top;\n",
       "    }\n",
       "\n",
       "    .dataframe thead th {\n",
       "        text-align: right;\n",
       "    }\n",
       "</style>\n",
       "<table border=\"1\" class=\"dataframe\">\n",
       "  <thead>\n",
       "    <tr style=\"text-align: right;\">\n",
       "      <th></th>\n",
       "      <th>rec_name</th>\n",
       "      <th>pred</th>\n",
       "      <th>sentence</th>\n",
       "    </tr>\n",
       "  </thead>\n",
       "  <tbody>\n",
       "    <tr>\n",
       "      <th>0</th>\n",
       "      <td>0.wav</td>\n",
       "      <td>ما اطول عودك</td>\n",
       "      <td>ما أطول عودك</td>\n",
       "    </tr>\n",
       "  </tbody>\n",
       "</table>\n",
       "</div>"
      ],
      "text/plain": [
       "  rec_name          pred      sentence\n",
       "0    0.wav  ما اطول عودك  ما أطول عودك"
      ]
     },
     "execution_count": 37,
     "metadata": {},
     "output_type": "execute_result"
    }
   ],
   "source": [
    "df_clean[:k]"
   ]
  },
  {
   "cell_type": "code",
   "execution_count": 61,
   "metadata": {},
   "outputs": [],
   "source": [
    "df_clean[\"sentence\"]=df_clean[\"sentence\"].str.replace(\"أ\"  ,\"ا\")\n",
    "df_clean[\"sentence\"]=df_clean[\"sentence\"].str.replace(\"آ\"  ,\"ا\")\n",
    "df_clean[\"sentence\"]=df_clean[\"sentence\"].str.replace(\"إ\"  ,\"ا\")"
   ]
  },
  {
   "cell_type": "code",
   "execution_count": 62,
   "metadata": {},
   "outputs": [
    {
     "name": "stdout",
     "output_type": "stream",
     "text": [
      "Word Error Rate (WER): 0.43833595132937253\n",
      "Character Error Rate (CER): 0.3912089007483744\n",
      "Accuracy: 0.5679264996699206\n"
     ]
    }
   ],
   "source": [
    "# Set the reference and hypothesis columns\n",
    "eval_metrics.set_reference_column('sentence')\n",
    "eval_metrics.set_hypothesis_column('pred')\n",
    "\n",
    "# Calculate the evaluation metrics\n",
    "wer = eval_metrics.calculate_wer(df_clean)\n",
    "cer = eval_metrics.calculate_cer(df_clean)\n",
    "accuracy = eval_metrics.calculate_accuracy(df_clean)\n",
    "\n",
    "print(f\"Word Error Rate (WER): {wer}\")\n",
    "print(f\"Character Error Rate (CER): {cer}\")\n",
    "print(f\"Accuracy: {accuracy}\")"
   ]
  },
  {
   "cell_type": "code",
   "execution_count": 3,
   "metadata": {},
   "outputs": [
    {
     "data": {
      "text/html": [
       "<div>\n",
       "<style scoped>\n",
       "    .dataframe tbody tr th:only-of-type {\n",
       "        vertical-align: middle;\n",
       "    }\n",
       "\n",
       "    .dataframe tbody tr th {\n",
       "        vertical-align: top;\n",
       "    }\n",
       "\n",
       "    .dataframe thead th {\n",
       "        text-align: right;\n",
       "    }\n",
       "</style>\n",
       "<table border=\"1\" class=\"dataframe\">\n",
       "  <thead>\n",
       "    <tr style=\"text-align: right;\">\n",
       "      <th></th>\n",
       "      <th>audio</th>\n",
       "      <th>pred</th>\n",
       "    </tr>\n",
       "  </thead>\n",
       "  <tbody>\n",
       "    <tr>\n",
       "      <th>0</th>\n",
       "      <td>27.wav</td>\n",
       "      <td>as for her to love me as much or even more tha...</td>\n",
       "    </tr>\n",
       "    <tr>\n",
       "      <th>1</th>\n",
       "      <td>61.wav</td>\n",
       "      <td>not knowing what I was saying</td>\n",
       "    </tr>\n",
       "    <tr>\n",
       "      <th>2</th>\n",
       "      <td>80.wav</td>\n",
       "      <td>however Mercury's pleasure in seeing her frien...</td>\n",
       "    </tr>\n",
       "    <tr>\n",
       "      <th>3</th>\n",
       "      <td>0.wav</td>\n",
       "      <td>chapter 16</td>\n",
       "    </tr>\n",
       "    <tr>\n",
       "      <th>4</th>\n",
       "      <td>1.wav</td>\n",
       "      <td>Margaret to be unable to live apart for me</td>\n",
       "    </tr>\n",
       "    <tr>\n",
       "      <th>...</th>\n",
       "      <td>...</td>\n",
       "      <td>...</td>\n",
       "    </tr>\n",
       "    <tr>\n",
       "      <th>95</th>\n",
       "      <td>76.wav</td>\n",
       "      <td>a week later Marguerite was settled in her cou...</td>\n",
       "    </tr>\n",
       "    <tr>\n",
       "      <th>96</th>\n",
       "      <td>77.wav</td>\n",
       "      <td>on her side brought down all the people she kn...</td>\n",
       "    </tr>\n",
       "    <tr>\n",
       "      <th>97</th>\n",
       "      <td>78.wav</td>\n",
       "      <td>asking for a note for 1000 Franck professedly ...</td>\n",
       "    </tr>\n",
       "    <tr>\n",
       "      <th>98</th>\n",
       "      <td>79.wav</td>\n",
       "      <td>and fearing lest you could require more than I...</td>\n",
       "    </tr>\n",
       "    <tr>\n",
       "      <th>99</th>\n",
       "      <td>8.wav</td>\n",
       "      <td>NaN</td>\n",
       "    </tr>\n",
       "  </tbody>\n",
       "</table>\n",
       "<p>100 rows × 2 columns</p>\n",
       "</div>"
      ],
      "text/plain": [
       "     audio                                               pred\n",
       "0   27.wav  as for her to love me as much or even more tha...\n",
       "1   61.wav                      not knowing what I was saying\n",
       "2   80.wav  however Mercury's pleasure in seeing her frien...\n",
       "3    0.wav                                         chapter 16\n",
       "4    1.wav         Margaret to be unable to live apart for me\n",
       "..     ...                                                ...\n",
       "95  76.wav  a week later Marguerite was settled in her cou...\n",
       "96  77.wav  on her side brought down all the people she kn...\n",
       "97  78.wav  asking for a note for 1000 Franck professedly ...\n",
       "98  79.wav  and fearing lest you could require more than I...\n",
       "99   8.wav                                                NaN\n",
       "\n",
       "[100 rows x 2 columns]"
      ]
     },
     "execution_count": 3,
     "metadata": {},
     "output_type": "execute_result"
    }
   ],
   "source": [
    "df_eng = pd.read_csv(\"google_eng_eval.csv\" ,index_col=0)\n",
    "df_eng"
   ]
  },
  {
   "cell_type": "code",
   "execution_count": null,
   "metadata": {},
   "outputs": [],
   "source": [
    "df_eng_true = pd.read_csv(\"eng_data.csv\",index_col=0)\n",
    "df_eng_true[\"audio\"] = df_eng_true.index + \".wav\""
   ]
  },
  {
   "cell_type": "code",
   "execution_count": 20,
   "metadata": {},
   "outputs": [],
   "source": [
    "audio_names = [str(x) +\".wav\" for x in list(df_eng_true.index)]"
   ]
  },
  {
   "cell_type": "code",
   "execution_count": 22,
   "metadata": {},
   "outputs": [],
   "source": [
    "df_eng_true[\"audio\"] = audio_names"
   ]
  },
  {
   "cell_type": "code",
   "execution_count": 23,
   "metadata": {},
   "outputs": [
    {
     "data": {
      "text/html": [
       "<div>\n",
       "<style scoped>\n",
       "    .dataframe tbody tr th:only-of-type {\n",
       "        vertical-align: middle;\n",
       "    }\n",
       "\n",
       "    .dataframe tbody tr th {\n",
       "        vertical-align: top;\n",
       "    }\n",
       "\n",
       "    .dataframe thead th {\n",
       "        text-align: right;\n",
       "    }\n",
       "</style>\n",
       "<table border=\"1\" class=\"dataframe\">\n",
       "  <thead>\n",
       "    <tr style=\"text-align: right;\">\n",
       "      <th></th>\n",
       "      <th>audio</th>\n",
       "      <th>text</th>\n",
       "    </tr>\n",
       "  </thead>\n",
       "  <tbody>\n",
       "    <tr>\n",
       "      <th>0</th>\n",
       "      <td>0.wav</td>\n",
       "      <td>CHAPTER SIXTEEN I MIGHT HAVE TOLD YOU OF THE B...</td>\n",
       "    </tr>\n",
       "    <tr>\n",
       "      <th>1</th>\n",
       "      <td>1.wav</td>\n",
       "      <td>MARGUERITE TO BE UNABLE TO LIVE APART FROM ME ...</td>\n",
       "    </tr>\n",
       "    <tr>\n",
       "      <th>2</th>\n",
       "      <td>2.wav</td>\n",
       "      <td>I WISHED ABOVE ALL NOT TO LEAVE MYSELF TIME TO...</td>\n",
       "    </tr>\n",
       "    <tr>\n",
       "      <th>3</th>\n",
       "      <td>3.wav</td>\n",
       "      <td>ASSUMED ALL AT ONCE AN APPEARANCE OF NOISE AND...</td>\n",
       "    </tr>\n",
       "    <tr>\n",
       "      <th>4</th>\n",
       "      <td>4.wav</td>\n",
       "      <td>NOTHING IS SO EXPENSIVE AS THEIR CAPRICES FLOW...</td>\n",
       "    </tr>\n",
       "    <tr>\n",
       "      <th>...</th>\n",
       "      <td>...</td>\n",
       "      <td>...</td>\n",
       "    </tr>\n",
       "    <tr>\n",
       "      <th>95</th>\n",
       "      <td>95.wav</td>\n",
       "      <td>I WILL DO WITHOUT IT BUT WHAT WILL YOU DO I DO...</td>\n",
       "    </tr>\n",
       "    <tr>\n",
       "      <th>96</th>\n",
       "      <td>96.wav</td>\n",
       "      <td>COVERING HER HANDS WITH TEARS IN MY JOY AT BEI...</td>\n",
       "    </tr>\n",
       "    <tr>\n",
       "      <th>97</th>\n",
       "      <td>97.wav</td>\n",
       "      <td>NO MORE BARRIERS MY MARGUERITE WE LOVE WHAT MA...</td>\n",
       "    </tr>\n",
       "    <tr>\n",
       "      <th>98</th>\n",
       "      <td>98.wav</td>\n",
       "      <td>AND I WILL SAY GOOD BYE FOREVER TO THE LIFE FO...</td>\n",
       "    </tr>\n",
       "    <tr>\n",
       "      <th>99</th>\n",
       "      <td>99.wav</td>\n",
       "      <td>SAID SHE TURNING TO PRUDENCE AND SPEAKING IN A...</td>\n",
       "    </tr>\n",
       "  </tbody>\n",
       "</table>\n",
       "<p>100 rows × 2 columns</p>\n",
       "</div>"
      ],
      "text/plain": [
       "     audio                                               text\n",
       "0    0.wav  CHAPTER SIXTEEN I MIGHT HAVE TOLD YOU OF THE B...\n",
       "1    1.wav  MARGUERITE TO BE UNABLE TO LIVE APART FROM ME ...\n",
       "2    2.wav  I WISHED ABOVE ALL NOT TO LEAVE MYSELF TIME TO...\n",
       "3    3.wav  ASSUMED ALL AT ONCE AN APPEARANCE OF NOISE AND...\n",
       "4    4.wav  NOTHING IS SO EXPENSIVE AS THEIR CAPRICES FLOW...\n",
       "..     ...                                                ...\n",
       "95  95.wav  I WILL DO WITHOUT IT BUT WHAT WILL YOU DO I DO...\n",
       "96  96.wav  COVERING HER HANDS WITH TEARS IN MY JOY AT BEI...\n",
       "97  97.wav  NO MORE BARRIERS MY MARGUERITE WE LOVE WHAT MA...\n",
       "98  98.wav  AND I WILL SAY GOOD BYE FOREVER TO THE LIFE FO...\n",
       "99  99.wav  SAID SHE TURNING TO PRUDENCE AND SPEAKING IN A...\n",
       "\n",
       "[100 rows x 2 columns]"
      ]
     },
     "execution_count": 23,
     "metadata": {},
     "output_type": "execute_result"
    }
   ],
   "source": [
    "df_eng_true"
   ]
  },
  {
   "cell_type": "code",
   "execution_count": 26,
   "metadata": {},
   "outputs": [],
   "source": [
    "df_eng_bench = pd.merge(df_eng_true , df_eng ,on=\"audio\")\n",
    "df_eng_bench.to_csv(\"eng_google_bench.csv\")"
   ]
  },
  {
   "cell_type": "code",
   "execution_count": 51,
   "metadata": {},
   "outputs": [],
   "source": [
    "df_clean = df_eng_bench[~df_eng_bench[\"pred\"].isna()]"
   ]
  },
  {
   "cell_type": "code",
   "execution_count": 52,
   "metadata": {},
   "outputs": [
    {
     "name": "stdout",
     "output_type": "stream",
     "text": [
      "Word Error Rate (WER): 0.9816604063446893\n",
      "Character Error Rate (CER): 0.9814478213106758\n",
      "Accuracy: 0.007596410610521246\n"
     ]
    }
   ],
   "source": [
    "# Instantiate the STTEvaluationMetrics object\n",
    "eval_metrics = STTEvaluationMetrics()\n",
    "\n",
    "# Set the reference and hypothesis columns\n",
    "eval_metrics.set_reference_column('text')\n",
    "eval_metrics.set_hypothesis_column('pred')\n",
    "\n",
    "# Calculate the evaluation metrics\n",
    "wer = eval_metrics.calculate_wer(df_clean)\n",
    "cer = eval_metrics.calculate_cer(df_clean)\n",
    "accuracy = eval_metrics.calculate_accuracy(df_clean)\n",
    "\n",
    "print(f\"Word Error Rate (WER): {wer}\")\n",
    "print(f\"Character Error Rate (CER): {cer}\")\n",
    "print(f\"Accuracy: {accuracy}\")"
   ]
  },
  {
   "cell_type": "code",
   "execution_count": 53,
   "metadata": {},
   "outputs": [
    {
     "data": {
      "text/html": [
       "<div>\n",
       "<style scoped>\n",
       "    .dataframe tbody tr th:only-of-type {\n",
       "        vertical-align: middle;\n",
       "    }\n",
       "\n",
       "    .dataframe tbody tr th {\n",
       "        vertical-align: top;\n",
       "    }\n",
       "\n",
       "    .dataframe thead th {\n",
       "        text-align: right;\n",
       "    }\n",
       "</style>\n",
       "<table border=\"1\" class=\"dataframe\">\n",
       "  <thead>\n",
       "    <tr style=\"text-align: right;\">\n",
       "      <th></th>\n",
       "      <th>audio</th>\n",
       "      <th>text</th>\n",
       "      <th>pred</th>\n",
       "    </tr>\n",
       "  </thead>\n",
       "  <tbody>\n",
       "    <tr>\n",
       "      <th>0</th>\n",
       "      <td>0.wav</td>\n",
       "      <td>CHAPTER SIXTEEN I MIGHT HAVE TOLD YOU OF THE B...</td>\n",
       "      <td>chapter 16</td>\n",
       "    </tr>\n",
       "    <tr>\n",
       "      <th>1</th>\n",
       "      <td>1.wav</td>\n",
       "      <td>MARGUERITE TO BE UNABLE TO LIVE APART FROM ME ...</td>\n",
       "      <td>Margaret to be unable to live apart for me</td>\n",
       "    </tr>\n",
       "    <tr>\n",
       "      <th>2</th>\n",
       "      <td>2.wav</td>\n",
       "      <td>I WISHED ABOVE ALL NOT TO LEAVE MYSELF TIME TO...</td>\n",
       "      <td>I wish to myself time to think over the positi...</td>\n",
       "    </tr>\n",
       "    <tr>\n",
       "      <th>3</th>\n",
       "      <td>3.wav</td>\n",
       "      <td>ASSUMED ALL AT ONCE AN APPEARANCE OF NOISE AND...</td>\n",
       "      <td>order never believe however disinterested the ...</td>\n",
       "    </tr>\n",
       "    <tr>\n",
       "      <th>4</th>\n",
       "      <td>4.wav</td>\n",
       "      <td>NOTHING IS SO EXPENSIVE AS THEIR CAPRICES FLOW...</td>\n",
       "      <td>flowers boxes of the theater Trappers the coun...</td>\n",
       "    </tr>\n",
       "    <tr>\n",
       "      <th>...</th>\n",
       "      <td>...</td>\n",
       "      <td>...</td>\n",
       "      <td>...</td>\n",
       "    </tr>\n",
       "    <tr>\n",
       "      <th>95</th>\n",
       "      <td>95.wav</td>\n",
       "      <td>I WILL DO WITHOUT IT BUT WHAT WILL YOU DO I DO...</td>\n",
       "      <td>I will do without it what will you do</td>\n",
       "    </tr>\n",
       "    <tr>\n",
       "      <th>96</th>\n",
       "      <td>96.wav</td>\n",
       "      <td>COVERING HER HANDS WITH TEARS IN MY JOY AT BEI...</td>\n",
       "      <td>covering her hands with love</td>\n",
       "    </tr>\n",
       "    <tr>\n",
       "      <th>97</th>\n",
       "      <td>97.wav</td>\n",
       "      <td>NO MORE BARRIERS MY MARGUERITE WE LOVE WHAT MA...</td>\n",
       "      <td>no more barriers my Marguerite we love what ma...</td>\n",
       "    </tr>\n",
       "    <tr>\n",
       "      <th>98</th>\n",
       "      <td>98.wav</td>\n",
       "      <td>AND I WILL SAY GOOD BYE FOREVER TO THE LIFE FO...</td>\n",
       "      <td>and I will take you forever to the life for wh...</td>\n",
       "    </tr>\n",
       "    <tr>\n",
       "      <th>99</th>\n",
       "      <td>99.wav</td>\n",
       "      <td>SAID SHE TURNING TO PRUDENCE AND SPEAKING IN A...</td>\n",
       "      <td>Broken Voice and you can add that we have no l...</td>\n",
       "    </tr>\n",
       "  </tbody>\n",
       "</table>\n",
       "<p>98 rows × 3 columns</p>\n",
       "</div>"
      ],
      "text/plain": [
       "     audio                                               text  \\\n",
       "0    0.wav  CHAPTER SIXTEEN I MIGHT HAVE TOLD YOU OF THE B...   \n",
       "1    1.wav  MARGUERITE TO BE UNABLE TO LIVE APART FROM ME ...   \n",
       "2    2.wav  I WISHED ABOVE ALL NOT TO LEAVE MYSELF TIME TO...   \n",
       "3    3.wav  ASSUMED ALL AT ONCE AN APPEARANCE OF NOISE AND...   \n",
       "4    4.wav  NOTHING IS SO EXPENSIVE AS THEIR CAPRICES FLOW...   \n",
       "..     ...                                                ...   \n",
       "95  95.wav  I WILL DO WITHOUT IT BUT WHAT WILL YOU DO I DO...   \n",
       "96  96.wav  COVERING HER HANDS WITH TEARS IN MY JOY AT BEI...   \n",
       "97  97.wav  NO MORE BARRIERS MY MARGUERITE WE LOVE WHAT MA...   \n",
       "98  98.wav  AND I WILL SAY GOOD BYE FOREVER TO THE LIFE FO...   \n",
       "99  99.wav  SAID SHE TURNING TO PRUDENCE AND SPEAKING IN A...   \n",
       "\n",
       "                                                 pred  \n",
       "0                                          chapter 16  \n",
       "1          Margaret to be unable to live apart for me  \n",
       "2   I wish to myself time to think over the positi...  \n",
       "3   order never believe however disinterested the ...  \n",
       "4   flowers boxes of the theater Trappers the coun...  \n",
       "..                                                ...  \n",
       "95              I will do without it what will you do  \n",
       "96                       covering her hands with love  \n",
       "97  no more barriers my Marguerite we love what ma...  \n",
       "98  and I will take you forever to the life for wh...  \n",
       "99  Broken Voice and you can add that we have no l...  \n",
       "\n",
       "[98 rows x 3 columns]"
      ]
     },
     "execution_count": 53,
     "metadata": {},
     "output_type": "execute_result"
    }
   ],
   "source": [
    "df_clean"
   ]
  },
  {
   "cell_type": "code",
   "execution_count": null,
   "metadata": {},
   "outputs": [],
   "source": []
  }
 ],
 "metadata": {
  "kernelspec": {
   "display_name": "grad",
   "language": "python",
   "name": "python3"
  },
  "language_info": {
   "codemirror_mode": {
    "name": "ipython",
    "version": 3
   },
   "file_extension": ".py",
   "mimetype": "text/x-python",
   "name": "python",
   "nbconvert_exporter": "python",
   "pygments_lexer": "ipython3",
   "version": "3.10.11"
  },
  "orig_nbformat": 4
 },
 "nbformat": 4,
 "nbformat_minor": 2
}
